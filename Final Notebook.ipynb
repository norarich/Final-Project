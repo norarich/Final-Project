{
 "cells": [
  {
   "cell_type": "markdown",
   "metadata": {},
   "source": [
    "# Final Notebook"
   ]
  },
  {
   "cell_type": "markdown",
   "metadata": {},
   "source": [
    "## Introduction"
   ]
  },
  {
   "cell_type": "markdown",
   "metadata": {},
   "source": [
    "##### For this project, we were required to find some metric that would determine the best neighborhood in Pittsburgh. Our approach to finding our metric was to orignially come up with ideas and then find datasets that applied. Our first idea was \"best neighborhood to have a glow-up\" or \"best neighborhood to be an athlete\" However, this proposed to be a challenge because the datasets are limited in what they cover. We struggled to find datasets that were applicable to these metrics. While looking through the datasets, we did notice that there is a lot of data on traffic and roadways in Pittsburgh neighborhoods. For this reason, we knew we wanted to do something with this information, but also for our metric to be intersting. That is how we decided on our metric \"best neighborhood to film Cars 4\". "
   ]
  },
  {
   "cell_type": "markdown",
   "metadata": {},
   "source": [
    "## Metric"
   ]
  },
  {
   "cell_type": "markdown",
   "metadata": {},
   "source": [
    "##### As mentioned above, our metric is \"best neighborhood to film Cars 4\". The sub-metrics we are measuring include number of speed bumps, number of traffic lights, and number of bridges per neighborhood. In our idea of Cars 4, there should be the least number of speed bumps and traffic lights, but more bridges. For these reasons, we are reviewing datasets that cover speed bumps, traffic lights, and city bridges."
   ]
  },
  {
   "cell_type": "markdown",
   "metadata": {},
   "source": [
    "## Dataset #1 Speed Bumps - Nora"
   ]
  },
  {
   "cell_type": "markdown",
   "metadata": {},
   "source": [
    "##### When driving, speed bumps require drivers to slow down. However, in the Cars movies, Lightning McQueen is a \"Faster than fast and quicker than quick\". He has no time to slow down for speed bumps. For this reason, the best neighborhood should have the least number of speed bumps. "
   ]
  },
  {
   "cell_type": "code",
   "execution_count": 2,
   "metadata": {},
   "outputs": [],
   "source": [
    "import pandas as pd"
   ]
  },
  {
   "cell_type": "code",
   "execution_count": 3,
   "metadata": {},
   "outputs": [
    {
     "data": {
      "text/plain": [
       "Squirrel Hill South    18\n",
       "Carrick                 9\n",
       "Polish Hill             6\n",
       "North Oakland           6\n",
       "Upper Hill              4\n",
       "Brookline               4\n",
       "Homewood South          4\n",
       "South Side Slopes       4\n",
       "Perry North             4\n",
       "Garfield                3\n",
       "Squirrel Hill North     3\n",
       "South Side Flats        3\n",
       "Mount Washington        3\n",
       "Bloomfield              3\n",
       "Highland Park           2\n",
       "Central Oakland         1\n",
       "Stanton Heights         1\n",
       "Overbrook               1\n",
       "Name: neighborhood, dtype: int64"
      ]
     },
     "execution_count": 3,
     "metadata": {},
     "output_type": "execute_result"
    }
   ],
   "source": [
    "#import humps dataset\n",
    "humps = pd.read_csv(\"humps.csv\")\n",
    "counts = humps['neighborhood'].value_counts()\n",
    "counts"
   ]
  },
  {
   "cell_type": "markdown",
   "metadata": {},
   "source": [
    "##### This list above ranks the neighborhoods from most number of speed bumps to least number of speed bumps. Although this information is helpful, it is important to consider the square area of each neighborhood. For example, Squirrel Hill South could have the most speed bumps, but it could also be the largest neighborhood. We want Lightning McQueen to be able to drive the farthest distance without having to slow down for speed bumps. So, it is important to take into account the size of each neighborhood."
   ]
  },
  {
   "cell_type": "code",
   "execution_count": 105,
   "metadata": {},
   "outputs": [],
   "source": [
    "#import neighborhood dataset to find square area\n",
    "hood_one = pd.read_csv(\"hood.csv\")"
   ]
  },
  {
   "cell_type": "code",
   "execution_count": 133,
   "metadata": {},
   "outputs": [
    {
     "name": "stdout",
     "output_type": "stream",
     "text": [
      "                     Humps Per Square Mile\n",
      "Overbrook                         1.195461\n",
      "Stanton Heights                   1.354667\n",
      "Highland Park                     1.709606\n",
      "Brookline                         1.914856\n",
      "Squirrel Hill North               2.452165\n",
      "Mount Washington                  2.648935\n",
      "South Side Flats                  3.245641\n",
      "Perry North                       3.306023\n",
      "Central Oakland                   3.570835\n",
      "Bloomfield                        4.273927\n",
      "Carrick                           5.390739\n",
      "South Side Slopes                 5.532043\n",
      "Garfield                          6.559032\n",
      "Squirrel Hill South               6.724936\n",
      "Homewood South                   10.331962\n",
      "North Oakland                    12.072386\n",
      "Upper Hill                       12.771846\n",
      "Polish Hill                      23.422473\n"
     ]
    },
    {
     "data": {
      "text/plain": [
       "<matplotlib.axes._subplots.AxesSubplot at 0x7fe509cbbee0>"
      ]
     },
     "execution_count": 133,
     "metadata": {},
     "output_type": "execute_result"
    },
    {
     "data": {
      "image/png": "[encoded data removed]",
      "text/plain": [
       "<Figure size 720x720 with 1 Axes>"
      ]
     },
     "metadata": {
      "needs_background": "light"
     },
     "output_type": "display_data"
    }
   ],
   "source": [
    "#create a dictionary of the total count of speed bumbs per neighborhood\n",
    "neighborhoods = counts.to_dict()\n",
    "\n",
    "#iterate through the dictionary to divide each count by the neighborhood's area\n",
    "for index, row in hood_one.iterrows():\n",
    "    area = row['sqmiles']\n",
    "    hood = row['hood']\n",
    "    if hood in neighborhoods:\n",
    "        neighborhoods[hood] = neighborhoods[hood]/area\n",
    "        \n",
    "#turn dictionary back into a data frame\n",
    "hood_area = pd.DataFrame(neighborhoods, index=[0])\n",
    "hood_area = hood_area.transpose()\n",
    "hood_area.columns=[\"Humps Per Square Mile\"]\n",
    "\n",
    "#print sorted dictionary\n",
    "print(hood_area.sort_values(by=\"Humps Per Square Mile\"))\n",
    "#represent data frame as a bar plot\n",
    "hood_area.plot(kind='bar', rot=90, figsize=(10, 10))"
   ]
  },
  {
   "cell_type": "markdown",
   "metadata": {},
   "source": [
    "## Dataset #1 Conclusion\n",
    "##### As you can see, after dividing each neighborhood's total number of speed bumbs by its square area, Overbrook reveals to be the least speed bump dense neighborhood. Thus, Overbrook is considered to be the best option to film Cars 4 based on a lack of speed bumps, allowing the charactes to speed."
   ]
  },
  {
   "cell_type": "markdown",
   "metadata": {},
   "source": [
    "## Dataset #2 Traffic Lights - Layla"
   ]
  },
  {
   "cell_type": "markdown",
   "metadata": {},
   "source": [
    "put your code here."
   ]
  },
  {
   "cell_type": "markdown",
   "metadata": {},
   "source": [
    "## Dataset #3 Scenic Route (Bridges) - Nora"
   ]
  },
  {
   "cell_type": "markdown",
   "metadata": {},
   "source": [
    "##### Cinematography is crucial for making or breaking a movie. For this reason, it is very important that the filming location of Cars 4 is scenic and offers great filming locations. The most scenic and car accessible feature of Pittsburgh is its many bridges. The next dataset records the number of bridges in each neighborhood in Pittsburgh. The neighborhood with the most bridges will be the best for filming Cars 4."
   ]
  },
  {
   "cell_type": "code",
   "execution_count": 110,
   "metadata": {},
   "outputs": [
    {
     "data": {
      "text/plain": [
       "Squirrel Hill South          14\n",
       "Central Business District    12\n",
       "Troy Hill                     7\n",
       "Overbrook                     6\n",
       "Hays                          6\n",
       "Shadyside                     6\n",
       "Oakwood                       5\n",
       "South Side Slopes             5\n",
       "South Side Flats              5\n",
       "West End                      4\n",
       "South Oakland                 4\n",
       "Mount Washington              4\n",
       "East Allegheny                4\n",
       "Hazelwood                     4\n",
       "Bon Air                       3\n",
       "Larimer                       3\n",
       "Allegheny Center              3\n",
       "Sheraden                      3\n",
       "Polish Hill                   3\n",
       "Bloomfield                    2\n",
       "Bluff                         2\n",
       "Perry South                   2\n",
       "Lincoln-Lemington-Belmar      2\n",
       "Swisshelm Park                2\n",
       "Windgap                       2\n",
       "Highland Park                 2\n",
       "Squirrel Hill North           2\n",
       "Arlington                     2\n",
       "Allegheny West                2\n",
       "Greenfield                    2\n",
       "Marshall-Shadeland            2\n",
       "East Liberty                  2\n",
       "Lower Lawrenceville           2\n",
       "Brighton Heights              2\n",
       "Esplen                        1\n",
       "California-Kirkbride          1\n",
       "Homewood South                1\n",
       "South Shore                   1\n",
       "Regent Square                 1\n",
       "Elliott                       1\n",
       "Summer Hill                   1\n",
       "Northview Heights             1\n",
       "Spring Hill-City View         1\n",
       "Allentown                     1\n",
       "Point Breeze                  1\n",
       "Strip District                1\n",
       "Manchester                    1\n",
       "Central Oakland               1\n",
       "Banksville                    1\n",
       "Beechview                     1\n",
       "Brookline                     1\n",
       "North Shore                   1\n",
       "Name: neighborhood, dtype: int64"
      ]
     },
     "execution_count": 110,
     "metadata": {},
     "output_type": "execute_result"
    }
   ],
   "source": [
    "bridge = pd.read_csv(\"bridge.csv\")\n",
    "bridge_counts = bridge['neighborhood'].value_counts()\n",
    "bridge_counts"
   ]
  },
  {
   "cell_type": "markdown",
   "metadata": {},
   "source": [
    "##### Again, this list above ranks the neighborhoods from most number of bridges to least number of bridges. It is important to consider the square area of each neighborhood. For example, Squirrel Hill South could have the most bridges, but it could also be the largest neighborhood. We want Lightning McQueen to be able to drive the least distance in order to get from one bridge to the next. So, it is important to take into account the size of each neighborhood."
   ]
  },
  {
   "cell_type": "code",
   "execution_count": 108,
   "metadata": {},
   "outputs": [],
   "source": [
    "#import neighborhood dataset to find square area\n",
    "hood_two = pd.read_csv(\"hood.csv\")"
   ]
  },
  {
   "cell_type": "code",
   "execution_count": 135,
   "metadata": {},
   "outputs": [
    {
     "name": "stdout",
     "output_type": "stream",
     "text": [
      "                           Bridges Per Square Mile\n",
      "West End                                 20.558597\n",
      "Oakwood                                  19.811177\n",
      "Central Business District                18.586440\n",
      "East Allegheny                           17.027396\n",
      "Troy Hill                                15.187209\n",
      "Allegheny Center                         14.358407\n",
      "Allegheny West                           13.812698\n",
      "Polish Hill                              11.711237\n",
      "Bon Air                                   9.528939\n",
      "South Oakland                             8.265173\n",
      "Overbrook                                 7.172767\n",
      "South Side Slopes                         6.915054\n",
      "Larimer                                   6.738788\n",
      "Shadyside                                 6.520598\n",
      "Bluff                                     6.148904\n",
      "South Side Flats                          5.409401\n",
      "Squirrel Hill South                       5.230506\n",
      "Regent Square                             5.096352\n",
      "Windgap                                   4.796918\n",
      "Lower Lawrenceville                       4.651767\n",
      "California-Kirkbride                      4.610600\n",
      "South Shore                               4.333815\n",
      "Esplen                                    4.326802\n",
      "Swisshelm Park                            4.223065\n",
      "Arlington                                 4.166879\n",
      "Manchester                                3.583606\n",
      "Central Oakland                           3.570835\n",
      "Mount Washington                          3.531913\n",
      "East Liberty                              3.440097\n",
      "Hays                                      3.438203\n",
      "Sheraden                                  3.379775\n",
      "Allentown                                 3.367023\n",
      "North Shore                               3.366742\n",
      "Northview Heights                         3.186772\n",
      "Bloomfield                                2.849284\n",
      "Homewood South                            2.582991\n",
      "Greenfield                                2.582526\n",
      "Hazelwood                                 2.491835\n",
      "Summer Hill                               2.262984\n",
      "Perry South                               2.206662\n",
      "Brighton Heights                          1.790474\n",
      "Highland Park                             1.709606\n",
      "Elliott                                   1.650464\n",
      "Strip District                            1.644227\n",
      "Squirrel Hill North                       1.634777\n",
      "Marshall-Shadeland                        1.594804\n",
      "Spring Hill-City View                     1.571792\n",
      "Lincoln-Lemington-Belmar                  1.100049\n",
      "Banksville                                1.022893\n",
      "Point Breeze                              0.996619\n",
      "Beechview                                 0.685306\n",
      "Brookline                                 0.478714\n"
     ]
    },
    {
     "data": {
      "text/plain": [
       "<matplotlib.axes._subplots.AxesSubplot at 0x7fe509ae9430>"
      ]
     },
     "execution_count": 135,
     "metadata": {},
     "output_type": "execute_result"
    },
    {
     "data": {
      "image/png": "[encoded data removed]",
      "text/plain": [
       "<Figure size 720x720 with 1 Axes>"
      ]
     },
     "metadata": {
      "needs_background": "light"
     },
     "output_type": "display_data"
    }
   ],
   "source": [
    "#create a dictionary of the total count of bridges per neighborhood\n",
    "neighborhoods = bridge_counts.to_dict()\n",
    "\n",
    "#iterate through the dictionary to divide each count by the neighborhood's area\n",
    "for index, row in hood_two.iterrows():\n",
    "    area = row['sqmiles']\n",
    "    hood = row['hood']\n",
    "    if hood in neighborhoods:\n",
    "        neighborhoods[hood] = neighborhoods[hood]/area\n",
    "        \n",
    "#turn dictionary back into a data frame\n",
    "bridge_area = pd.DataFrame(neighborhoods, index=[0])\n",
    "bridge_area = bridge_area.transpose()\n",
    "bridge_area.columns=[\"Bridges Per Square Mile\"]\n",
    "\n",
    "#print sorted dictionary\n",
    "print(bridge_area.sort_values(by=\"Bridges Per Square Mile\", ascending=False))\n",
    "\n",
    "#represent data frame as a bar plot\n",
    "bridge_area.plot(kind='bar', rot=90, figsize=(10, 10))"
   ]
  },
  {
   "cell_type": "markdown",
   "metadata": {},
   "source": [
    "## Dataset #3 Conclusion\n",
    "##### As you can see, after dividing each neighborhood's total number of brides by its square area, West End reveals to be the most bridge bump dense neighborhood. Thus, West End is considered to be the best option to film Cars 4 based on the most bridges aka scenic routes."
   ]
  },
  {
   "cell_type": "markdown",
   "metadata": {},
   "source": [
    "## Combining All Sub-Metrics"
   ]
  },
  {
   "cell_type": "markdown",
   "metadata": {},
   "source": [
    "##### In order to determine the best overall neighborhood to film Cars 4, we have to combine all sub-metrics. In order to do this, we decided to calculate the total number of speed bumps, traffic lights, and bridges per neighborhood and calculate the total per square area. However, because we want to calcuate the least number of speed bumps and traffic lights, we will consider their counts to be negative. So, essentially, we are subtracting the number of speed bumps and traffic lights away from the total number of bridges per neighborhood. Then we will calcualate this area per square area. "
   ]
  },
  {
   "cell_type": "markdown",
   "metadata": {},
   "source": [
    "## Conclusion - Nora"
   ]
  },
  {
   "cell_type": "markdown",
   "metadata": {},
   "source": [
    "write conclusion here."
   ]
  },
  {
   "cell_type": "markdown",
   "metadata": {},
   "source": [
    "## Conclusion - Layla"
   ]
  },
  {
   "cell_type": "markdown",
   "metadata": {},
   "source": [
    "write conclusion here."
   ]
  }
 ],
 "metadata": {
  "kernelspec": {
   "display_name": "Python 3",
   "language": "python",
   "name": "python3"
  },
  "language_info": {
   "codemirror_mode": {
    "name": "ipython",
    "version": 3
   },
   "file_extension": ".py",
   "mimetype": "text/x-python",
   "name": "python",
   "nbconvert_exporter": "python",
   "pygments_lexer": "ipython3",
   "version": "3.8.3"
  }
 },
 "nbformat": 4,
 "nbformat_minor": 4
}
